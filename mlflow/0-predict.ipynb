{
 "cells": [
  {
   "cell_type": "code",
   "execution_count": 20,
   "metadata": {},
   "outputs": [],
   "source": [
    "import pandas as pd"
   ]
  },
  {
   "cell_type": "code",
   "execution_count": 21,
   "metadata": {},
   "outputs": [],
   "source": [
    "from sklearn.ensemble import (\n",
    "    HistGradientBoostingRegressor\n",
    ")"
   ]
  },
  {
   "cell_type": "code",
   "execution_count": 22,
   "metadata": {},
   "outputs": [],
   "source": [
    "df = pd.read_csv(\"../data/train.csv\")\n",
    "df.drop(columns=[\"id\"], inplace=True)\n",
    "df = df.round(decimals=2)\n",
    "\n",
    "# X = df.drop(columns=[\"Hardness\"])\n",
    "# y = df[\"Hardness\"]"
   ]
  },
  {
   "cell_type": "code",
   "execution_count": 23,
   "metadata": {},
   "outputs": [],
   "source": [
    "# model = HistGradientBoostingRegressor()\n",
    "# model.fit(X=X, y=y)"
   ]
  },
  {
   "cell_type": "code",
   "execution_count": 24,
   "metadata": {},
   "outputs": [],
   "source": [
    "f1 = ['allelectrons_Total', 'density_Total', 'val_e_Average', 'atomicweight_Average', 'ionenergy_Average', 'el_neg_chi_Average', 'R_cov_element_Average']\n",
    "f2 = ['allelectrons_Total', 'allelectrons_Average', 'val_e_Average', 'atomicweight_Average', 'ionenergy_Average', 'el_neg_chi_Average', 'R_cov_element_Average']\n",
    "f3 = ['allelectrons_Total', 'density_Total', 'allelectrons_Average', 'val_e_Average', 'atomicweight_Average', 'ionenergy_Average', 'el_neg_chi_Average', 'R_vdw_element_Average', 'R_cov_element_Average']\n",
    "f4 = ['allelectrons_Total', 'density_Total', 'val_e_Average', 'atomicweight_Average', 'ionenergy_Average', 'el_neg_chi_Average', 'R_vdw_element_Average', 'R_cov_element_Average', 'zaratio_Average', 'density_Average']\n",
    "f5 = ['allelectrons_Total', 'density_Total', 'val_e_Average', 'atomicweight_Average', 'ionenergy_Average', 'el_neg_chi_Average', 'R_cov_element_Average', 'density_Average']"
   ]
  },
  {
   "cell_type": "code",
   "execution_count": 25,
   "metadata": {},
   "outputs": [],
   "source": [
    "df_test = pd.read_csv(\"../data/test.csv\")\n",
    "id = df_test[\"id\"]\n",
    "df_test.drop(columns=[\"id\"], inplace=True)\n",
    "df_test = df_test.round(decimals=2)"
   ]
  },
  {
   "cell_type": "code",
   "execution_count": 27,
   "metadata": {},
   "outputs": [],
   "source": [
    "for i, feature in enumerate([f1, f2, f3, f4, f5]):\n",
    "    X = df[feature]\n",
    "    y = df[\"Hardness\"]\n",
    "    \n",
    "    model = HistGradientBoostingRegressor()\n",
    "    model.fit(X=X, y=y)\n",
    "    \n",
    "    result_submission = model.predict(df_test[feature])\n",
    "    df_submission = pd.DataFrame(data={'id': id ,'Hardness': result_submission})\n",
    "    df_submission.to_csv(\"../submission/\" + str(i) + \"_submission.csv  \", index=False)"
   ]
  },
  {
   "cell_type": "code",
   "execution_count": null,
   "metadata": {},
   "outputs": [],
   "source": [
    "df_test = pd.read_csv(\"../data/test.csv\")\n",
    "id = df_test[\"id\"]\n",
    "df_test.drop(columns=[\"id\"], inplace=True)\n",
    "result_submission = model.predict(df_test)\n",
    "df_submission = pd.DataFrame(data={'id': id ,'Hardness': result_submission})\n",
    "df_submission.to_csv(\"../submission/\" + run_name + \"_submission.csv  \", index=False)"
   ]
  }
 ],
 "metadata": {
  "kernelspec": {
   "display_name": ".venv",
   "language": "python",
   "name": "python3"
  },
  "language_info": {
   "codemirror_mode": {
    "name": "ipython",
    "version": 3
   },
   "file_extension": ".py",
   "mimetype": "text/x-python",
   "name": "python",
   "nbconvert_exporter": "python",
   "pygments_lexer": "ipython3",
   "version": "3.11.6"
  }
 },
 "nbformat": 4,
 "nbformat_minor": 2
}
